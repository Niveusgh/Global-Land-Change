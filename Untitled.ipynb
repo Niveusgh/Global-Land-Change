{
 "cells": [
  {
   "cell_type": "code",
   "execution_count": 1,
   "id": "5fba0d2b",
   "metadata": {},
   "outputs": [],
   "source": [
    "import pandas as pd\n",
    "import matplotlib.pyplot as plt\n",
    "import numpy as np\n",
    "import seaborn as sns\n",
    "import os\n"
   ]
  },
  {
   "cell_type": "code",
   "execution_count": 2,
   "id": "99d6959b",
   "metadata": {},
   "outputs": [],
   "source": [
    "# Load the cleaned data\n",
    "df = pd.read_csv('data/clean_combined.csv')\n",
    "\n"
   ]
  },
  {
   "cell_type": "code",
   "execution_count": 3,
   "id": "fb171433",
   "metadata": {},
   "outputs": [
    {
     "data": {
      "text/html": [
       "<div>\n",
       "<style scoped>\n",
       "    .dataframe tbody tr th:only-of-type {\n",
       "        vertical-align: middle;\n",
       "    }\n",
       "\n",
       "    .dataframe tbody tr th {\n",
       "        vertical-align: top;\n",
       "    }\n",
       "\n",
       "    .dataframe thead th {\n",
       "        text-align: right;\n",
       "    }\n",
       "</style>\n",
       "<table border=\"1\" class=\"dataframe\">\n",
       "  <thead>\n",
       "    <tr style=\"text-align: right;\">\n",
       "      <th></th>\n",
       "      <th>Unnamed: 0</th>\n",
       "      <th>Entity</th>\n",
       "      <th>Code</th>\n",
       "      <th>Year</th>\n",
       "      <th>Cereals allocated to other uses</th>\n",
       "      <th>Cereals allocated to animal feed</th>\n",
       "      <th>Cereals allocated to human food</th>\n",
       "      <th>Needed habitable land area</th>\n",
       "      <th>Cropland</th>\n",
       "      <th>Pasture</th>\n",
       "      <th>Permanent ice</th>\n",
       "      <th>Semi-natural land</th>\n",
       "      <th>Urban</th>\n",
       "      <th>Villages</th>\n",
       "      <th>Wild barren land</th>\n",
       "      <th>Wild woodlands</th>\n",
       "      <th>Total Cereal Allocation</th>\n",
       "      <th>Proportion Allocated to Human Food</th>\n",
       "    </tr>\n",
       "  </thead>\n",
       "  <tbody>\n",
       "    <tr>\n",
       "      <th>0</th>\n",
       "      <td>0</td>\n",
       "      <td>Afghanistan</td>\n",
       "      <td>AFG</td>\n",
       "      <td>2014</td>\n",
       "      <td>7000.0</td>\n",
       "      <td>704000.0</td>\n",
       "      <td>6072000.0</td>\n",
       "      <td>NaN</td>\n",
       "      <td>NaN</td>\n",
       "      <td>NaN</td>\n",
       "      <td>NaN</td>\n",
       "      <td>NaN</td>\n",
       "      <td>NaN</td>\n",
       "      <td>NaN</td>\n",
       "      <td>NaN</td>\n",
       "      <td>NaN</td>\n",
       "      <td>6783000.0</td>\n",
       "      <td>0.895179</td>\n",
       "    </tr>\n",
       "    <tr>\n",
       "      <th>1</th>\n",
       "      <td>1</td>\n",
       "      <td>Afghanistan</td>\n",
       "      <td>AFG</td>\n",
       "      <td>2015</td>\n",
       "      <td>5000.0</td>\n",
       "      <td>748000.0</td>\n",
       "      <td>6265000.0</td>\n",
       "      <td>NaN</td>\n",
       "      <td>NaN</td>\n",
       "      <td>NaN</td>\n",
       "      <td>NaN</td>\n",
       "      <td>NaN</td>\n",
       "      <td>NaN</td>\n",
       "      <td>NaN</td>\n",
       "      <td>NaN</td>\n",
       "      <td>NaN</td>\n",
       "      <td>7018000.0</td>\n",
       "      <td>0.892704</td>\n",
       "    </tr>\n",
       "    <tr>\n",
       "      <th>2</th>\n",
       "      <td>2</td>\n",
       "      <td>Afghanistan</td>\n",
       "      <td>AFG</td>\n",
       "      <td>2016</td>\n",
       "      <td>7000.0</td>\n",
       "      <td>472000.0</td>\n",
       "      <td>6426000.0</td>\n",
       "      <td>NaN</td>\n",
       "      <td>NaN</td>\n",
       "      <td>NaN</td>\n",
       "      <td>NaN</td>\n",
       "      <td>NaN</td>\n",
       "      <td>NaN</td>\n",
       "      <td>NaN</td>\n",
       "      <td>NaN</td>\n",
       "      <td>NaN</td>\n",
       "      <td>6905000.0</td>\n",
       "      <td>0.930630</td>\n",
       "    </tr>\n",
       "    <tr>\n",
       "      <th>3</th>\n",
       "      <td>3</td>\n",
       "      <td>Afghanistan</td>\n",
       "      <td>AFG</td>\n",
       "      <td>2017</td>\n",
       "      <td>7000.0</td>\n",
       "      <td>403000.0</td>\n",
       "      <td>6746000.0</td>\n",
       "      <td>NaN</td>\n",
       "      <td>NaN</td>\n",
       "      <td>NaN</td>\n",
       "      <td>NaN</td>\n",
       "      <td>NaN</td>\n",
       "      <td>NaN</td>\n",
       "      <td>NaN</td>\n",
       "      <td>NaN</td>\n",
       "      <td>NaN</td>\n",
       "      <td>7156000.0</td>\n",
       "      <td>0.942705</td>\n",
       "    </tr>\n",
       "    <tr>\n",
       "      <th>4</th>\n",
       "      <td>4</td>\n",
       "      <td>Afghanistan</td>\n",
       "      <td>AFG</td>\n",
       "      <td>2018</td>\n",
       "      <td>8000.0</td>\n",
       "      <td>410000.0</td>\n",
       "      <td>6761000.0</td>\n",
       "      <td>NaN</td>\n",
       "      <td>NaN</td>\n",
       "      <td>NaN</td>\n",
       "      <td>NaN</td>\n",
       "      <td>NaN</td>\n",
       "      <td>NaN</td>\n",
       "      <td>NaN</td>\n",
       "      <td>NaN</td>\n",
       "      <td>NaN</td>\n",
       "      <td>7179000.0</td>\n",
       "      <td>0.941775</td>\n",
       "    </tr>\n",
       "  </tbody>\n",
       "</table>\n",
       "</div>"
      ],
      "text/plain": [
       "   Unnamed: 0       Entity Code  Year  Cereals allocated to other uses  \\\n",
       "0           0  Afghanistan  AFG  2014                           7000.0   \n",
       "1           1  Afghanistan  AFG  2015                           5000.0   \n",
       "2           2  Afghanistan  AFG  2016                           7000.0   \n",
       "3           3  Afghanistan  AFG  2017                           7000.0   \n",
       "4           4  Afghanistan  AFG  2018                           8000.0   \n",
       "\n",
       "   Cereals allocated to animal feed  Cereals allocated to human food  \\\n",
       "0                          704000.0                        6072000.0   \n",
       "1                          748000.0                        6265000.0   \n",
       "2                          472000.0                        6426000.0   \n",
       "3                          403000.0                        6746000.0   \n",
       "4                          410000.0                        6761000.0   \n",
       "\n",
       "   Needed habitable land area  Cropland  Pasture  Permanent ice  \\\n",
       "0                         NaN       NaN      NaN            NaN   \n",
       "1                         NaN       NaN      NaN            NaN   \n",
       "2                         NaN       NaN      NaN            NaN   \n",
       "3                         NaN       NaN      NaN            NaN   \n",
       "4                         NaN       NaN      NaN            NaN   \n",
       "\n",
       "   Semi-natural land  Urban  Villages  Wild barren land  Wild woodlands  \\\n",
       "0                NaN    NaN       NaN               NaN             NaN   \n",
       "1                NaN    NaN       NaN               NaN             NaN   \n",
       "2                NaN    NaN       NaN               NaN             NaN   \n",
       "3                NaN    NaN       NaN               NaN             NaN   \n",
       "4                NaN    NaN       NaN               NaN             NaN   \n",
       "\n",
       "   Total Cereal Allocation  Proportion Allocated to Human Food  \n",
       "0                6783000.0                            0.895179  \n",
       "1                7018000.0                            0.892704  \n",
       "2                6905000.0                            0.930630  \n",
       "3                7156000.0                            0.942705  \n",
       "4                7179000.0                            0.941775  "
      ]
     },
     "execution_count": 3,
     "metadata": {},
     "output_type": "execute_result"
    }
   ],
   "source": [
    "# Calculate the total cereal allocation\n",
    "df['Total Cereal Allocation'] = df['Cereals allocated to other uses'] + df['Cereals allocated to animal feed'] + df['Cereals allocated to human food']\n",
    "\n",
    "# Calculate the proportion of cereals allocated to other uses, animal feed, and human food\n",
    "df['Proportion Allocated to Human Food'] = df['Cereals allocated to human food'] / df['Total Cereal Allocation']\n",
    "\n",
    "# Show the first few rows of the dataframe\n",
    "df.head()"
   ]
  },
  {
   "cell_type": "code",
   "execution_count": 4,
   "id": "71a16ad2",
   "metadata": {},
   "outputs": [],
   "source": [
    "# Filter the dataframe where 'Entity' is 'World'\n",
    "df2 = df[df['Entity'] == 'World']\n",
    "\n"
   ]
  },
  {
   "cell_type": "code",
   "execution_count": 5,
   "id": "2a392ef4",
   "metadata": {},
   "outputs": [],
   "source": [
    "# Melt the dataframe to have all 8 land types under one column 'Land_type'\n",
    "df_world_land_types = df2.melt(id_vars=['Entity', 'Code', 'Year'], value_vars=['Cropland', 'Pasture', 'Permanent ice', 'Semi-natural land', 'Urban', 'Villages', 'Wild barren land', 'Wild woodlands'], var_name='Land_type', value_name='Area_Aggregated_Categories')\n",
    "\n"
   ]
  },
  {
   "cell_type": "code",
   "execution_count": 6,
   "id": "52fd3981",
   "metadata": {},
   "outputs": [],
   "source": [
    "#replaced the missing values (NaNs) in the 'Area_Aggregated_Categories' column with 0.\n",
    "df_world_land_types_filled = df_world_land_types.fillna(0)\n",
    "\n"
   ]
  },
  {
   "cell_type": "code",
   "execution_count": 7,
   "id": "a8611bc2",
   "metadata": {},
   "outputs": [],
   "source": [
    "# Drop the 'Entity' and 'Code' columns\n",
    "df_world_land_types_filled = df_world_land_types_filled.drop(['Entity', 'Code'], axis=1)\n",
    "\n"
   ]
  },
  {
   "cell_type": "code",
   "execution_count": 8,
   "id": "fcd1d8a1",
   "metadata": {},
   "outputs": [
    {
     "data": {
      "text/html": [
       "<div>\n",
       "<style scoped>\n",
       "    .dataframe tbody tr th:only-of-type {\n",
       "        vertical-align: middle;\n",
       "    }\n",
       "\n",
       "    .dataframe tbody tr th {\n",
       "        vertical-align: top;\n",
       "    }\n",
       "\n",
       "    .dataframe thead th {\n",
       "        text-align: right;\n",
       "    }\n",
       "</style>\n",
       "<table border=\"1\" class=\"dataframe\">\n",
       "  <thead>\n",
       "    <tr style=\"text-align: right;\">\n",
       "      <th></th>\n",
       "      <th>Land_type</th>\n",
       "      <th>Year</th>\n",
       "      <th>Area_Aggregated_Categories</th>\n",
       "    </tr>\n",
       "  </thead>\n",
       "  <tbody>\n",
       "    <tr>\n",
       "      <th>0</th>\n",
       "      <td>Cropland</td>\n",
       "      <td>1961</td>\n",
       "      <td>0.0</td>\n",
       "    </tr>\n",
       "    <tr>\n",
       "      <th>1</th>\n",
       "      <td>Cropland</td>\n",
       "      <td>1962</td>\n",
       "      <td>0.0</td>\n",
       "    </tr>\n",
       "    <tr>\n",
       "      <th>2</th>\n",
       "      <td>Cropland</td>\n",
       "      <td>1963</td>\n",
       "      <td>0.0</td>\n",
       "    </tr>\n",
       "    <tr>\n",
       "      <th>3</th>\n",
       "      <td>Cropland</td>\n",
       "      <td>1964</td>\n",
       "      <td>0.0</td>\n",
       "    </tr>\n",
       "    <tr>\n",
       "      <th>4</th>\n",
       "      <td>Cropland</td>\n",
       "      <td>1965</td>\n",
       "      <td>0.0</td>\n",
       "    </tr>\n",
       "  </tbody>\n",
       "</table>\n",
       "</div>"
      ],
      "text/plain": [
       "  Land_type  Year  Area_Aggregated_Categories\n",
       "0  Cropland  1961                         0.0\n",
       "1  Cropland  1962                         0.0\n",
       "2  Cropland  1963                         0.0\n",
       "3  Cropland  1964                         0.0\n",
       "4  Cropland  1965                         0.0"
      ]
     },
     "execution_count": 8,
     "metadata": {},
     "output_type": "execute_result"
    }
   ],
   "source": [
    "# Make the 'Land_type' column at the front\n",
    "df_world = df_world_land_types_filled[['Land_type', 'Year', 'Area_Aggregated_Categories']]\n",
    "\n",
    "\n",
    "df_world.head()"
   ]
  },
  {
   "cell_type": "code",
   "execution_count": 9,
   "id": "c6c57bb0",
   "metadata": {},
   "outputs": [],
   "source": [
    "# Convert the 'Year' column to an integer format\n",
    "df_world['Year'] = df_world['Year'].astype(int)"
   ]
  },
  {
   "cell_type": "code",
   "execution_count": 10,
   "id": "3269defc",
   "metadata": {},
   "outputs": [],
   "source": [
    "# Filter to only include data from 1800 to the most recent year\n",
    "df_world = df_world[df_world['Year'] >= 200]\n",
    "\n",
    "# Group by 'Year' and 'Entity' and sum 'Area_Aggregated_Categories'\n",
    "df_world_grouped = df_world.groupby(['Year', 'Land_type'])['Area_Aggregated_Categories'].sum().reset_index()\n",
    "\n",
    "# Pivot the grouped data so that each type of land use is a column\n",
    "df_world_pivot = df_world_grouped.pivot(index='Year', columns='Land_type', values='Area_Aggregated_Categories')\n"
   ]
  },
  {
   "cell_type": "code",
   "execution_count": 11,
   "id": "37c1f183",
   "metadata": {},
   "outputs": [],
   "source": [
    "# Fill missing values with 0\n",
    "df_world_pivot = df_world_pivot.fillna(0)\n",
    "\n",
    "# Calculate the total land mass for each year\n",
    "total_land_mass = df_world_pivot.sum(axis=1)\n",
    "\n",
    "# Convert each type of land use to a percentage of the total land mass\n",
    "df_world_pivot = df_world_pivot.divide(total_land_mass, axis=0) * 100\n",
    "\n",
    "\n"
   ]
  },
  {
   "cell_type": "code",
   "execution_count": 12,
   "id": "f125ab1b",
   "metadata": {},
   "outputs": [],
   "source": [
    "# Define a custom color palette using hex color codes\n",
    "custom_palette = {\n",
    "    'Cropland': '#FF8D85',  # Dark orange\n",
    "    'Pasture': '#B22222',  # Firebrick\n",
    "    'Wild barren land': '#FFD700',  # Gold\n",
    "    'Permanent ice': '#4073FF',  # Light sky blue\n",
    "    'Wild woodlands': '#064E40',  # Forest green\n",
    "    'Semi-natural land':'#6ACCBC',        \n",
    "    'Urban': '#808080', # Gray\n",
    "    'Villages': '#804000'  # Gray\n",
    "}\n",
    "\n"
   ]
  },
  {
   "cell_type": "code",
   "execution_count": 13,
   "id": "cb27c35b",
   "metadata": {},
   "outputs": [
    {
     "data": {
      "image/png": "[encoded data removed]",
      "text/plain": [
       "<Figure size 1152x576 with 1 Axes>"
      ]
     },
     "metadata": {
      "needs_background": "light"
     },
     "output_type": "display_data"
    }
   ],
   "source": [
    "# Create a new figure\n",
    "plt.figure(figsize=(16, 8))\n",
    "plt.suptitle('Chart 1', fontsize=20, y=1.03)\n",
    "\n",
    "\n",
    "# Initialize a variable to store the cumulative sum\n",
    "cumulative_sum = np.zeros_like(df_world_pivot.iloc[:, 0])\n",
    "\n",
    "# Plot a stacked area chart\n",
    "for column in df_world_pivot.columns:\n",
    "    color = custom_palette.get(column, 'lightgray')  # Use a light gray color for any other types of land use\n",
    "    plt.fill_between(df_world_pivot.index, cumulative_sum, cumulative_sum + df_world_pivot[column], color=color, alpha=0.4)\n",
    "    cumulative_sum += df_world_pivot[column]\n",
    "    \n",
    "# Set labels and title\n",
    "plt.xlabel('Year', fontsize=14)\n",
    "plt.ylabel('Percentage of Total Land Mass (%)', fontsize=14)\n",
    "plt.title('Change in Global Land Use Over Time (200 to Present)', fontsize=16)\n",
    "\n",
    "# Add a grid\n",
    "plt.grid(True)\n",
    "\n",
    "# Add a legend\n",
    "plt.legend(df_world_pivot.columns, loc='upper left')\n",
    "\n",
    "# Show the plot\n",
    "plt.show()"
   ]
  },
  {
   "cell_type": "code",
   "execution_count": 15,
   "id": "e2455c9d",
   "metadata": {},
   "outputs": [
    {
     "data": {
      "image/png": "[encoded data removed]",
      "text/plain": [
       "<Figure size 432x288 with 1 Axes>"
      ]
     },
     "metadata": {
      "needs_background": "light"
     },
     "output_type": "display_data"
    }
   ],
   "source": [
    "\n"
   ]
  },
  {
   "cell_type": "code",
   "execution_count": 16,
   "id": "4747e1b4",
   "metadata": {},
   "outputs": [
    {
     "data": {
      "image/png": "[encoded data removed]",
      "text/plain": [
       "<Figure size 432x288 with 1 Axes>"
      ]
     },
     "metadata": {
      "needs_background": "light"
     },
     "output_type": "display_data"
    }
   ],
   "source": []
  },
  {
   "cell_type": "code",
   "execution_count": null,
   "id": "12e0560c",
   "metadata": {},
   "outputs": [],
   "source": []
  }
 ],
 "metadata": {
  "kernelspec": {
   "display_name": "Python 3 (ipykernel)",
   "language": "python",
   "name": "python3"
  },
  "language_info": {
   "codemirror_mode": {
    "name": "ipython",
    "version": 3
   },
   "file_extension": ".py",
   "mimetype": "text/x-python",
   "name": "python",
   "nbconvert_exporter": "python",
   "pygments_lexer": "ipython3",
   "version": "3.10.4"
  }
 },
 "nbformat": 4,
 "nbformat_minor": 5
}
